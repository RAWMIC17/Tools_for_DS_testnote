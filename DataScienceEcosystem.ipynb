{
 "cells": [
  {
   "cell_type": "code",
   "execution_count": 1,
   "id": "12803d21-77ed-4ceb-b338-20b3dd47e843",
   "metadata": {
    "tags": []
   },
   "outputs": [],
   "source": [
    "#Data Science Tools and Ecosystem"
   ]
  },
  {
   "cell_type": "code",
   "execution_count": 2,
   "id": "ccae5e86-da71-4f26-956c-d3f863fd6949",
   "metadata": {
    "tags": []
   },
   "outputs": [],
   "source": [
    "# In this notebook, Data Science Tools and Ecosystem are summarized."
   ]
  },
  {
   "cell_type": "code",
   "execution_count": null,
   "id": "df8d875a-6c7e-4a33-ba2a-4be35bc0c9ef",
   "metadata": {},
   "outputs": [],
   "source": [
    "**Objective: **\n",
    "*List popular languages for Data Science\n",
    "*List popular tools for Data Science\n",
    "*List popular libraries for Data Science\n",
    "*Execute arithemetic expressions"
   ]
  },
  {
   "cell_type": "code",
   "execution_count": null,
   "id": "777ffcd8-7671-47e6-9d91-9466b1c18e8e",
   "metadata": {
    "tags": []
   },
   "outputs": [],
   "source": [
    "# Some of the popular languages that Data Scientists use are:\n",
    "\n",
    "1.Python\n",
    "2.R\n",
    "3.Julia"
   ]
  },
  {
   "cell_type": "code",
   "execution_count": null,
   "id": "1645e87f-6f78-4533-8c16-6bd29cb479e5",
   "metadata": {},
   "outputs": [],
   "source": [
    "#Some of the commonly used libraries used by Data Scientists include:\n",
    "1.Pandas\n",
    "2.Numpy\n",
    "3.Matplotlib"
   ]
  },
  {
   "cell_type": "code",
   "execution_count": null,
   "id": "b9b67c50-0a88-4ef4-8542-86ab4063710e",
   "metadata": {},
   "outputs": [],
   "source": [
    "|Data Science Tools|\n",
    "|-----------------|\n",
    "|MongoDB|\n",
    "|MySQL|\n",
    "|Hue|"
   ]
  },
  {
   "cell_type": "code",
   "execution_count": null,
   "id": "aa850104-33d3-4e76-82ba-7cb113a8cbea",
   "metadata": {},
   "outputs": [],
   "source": [
    "### Below are few examples of evaluating arithemetic expressions in Python."
   ]
  },
  {
   "cell_type": "code",
   "execution_count": 6,
   "id": "e97fe08d-b43a-4742-a667-c16eb446d511",
   "metadata": {
    "tags": []
   },
   "outputs": [
    {
     "data": {
      "text/plain": [
       "17"
      ]
     },
     "execution_count": 6,
     "metadata": {},
     "output_type": "execute_result"
    }
   ],
   "source": [
    "#This is a simple arithemetic expression to multiply then add integers.\n",
    "(3*4)+5"
   ]
  },
  {
   "cell_type": "code",
   "execution_count": 7,
   "id": "968c2e61-66ee-486f-9bc6-4356b4ba31b3",
   "metadata": {
    "tags": []
   },
   "outputs": [
    {
     "data": {
      "text/plain": [
       "3.3333333333333335"
      ]
     },
     "execution_count": 7,
     "metadata": {},
     "output_type": "execute_result"
    }
   ],
   "source": [
    "#This will convert 200 minutes to hours by dividing by 60.\n",
    "200/60"
   ]
  },
  {
   "cell_type": "code",
   "execution_count": null,
   "id": "34bdcd72-3239-4927-8af3-0c4587fc894c",
   "metadata": {},
   "outputs": [],
   "source": [
    "##Author\n",
    "Harsh"
   ]
  }
 ],
 "metadata": {
  "kernelspec": {
   "display_name": "Python",
   "language": "python",
   "name": "conda-env-python-py"
  },
  "language_info": {
   "codemirror_mode": {
    "name": "ipython",
    "version": 3
   },
   "file_extension": ".py",
   "mimetype": "text/x-python",
   "name": "python",
   "nbconvert_exporter": "python",
   "pygments_lexer": "ipython3",
   "version": "3.7.12"
  }
 },
 "nbformat": 4,
 "nbformat_minor": 5
}
